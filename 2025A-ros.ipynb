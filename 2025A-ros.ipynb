{
 "cells": [
  {
   "metadata": {},
   "cell_type": "markdown",
   "source": "Hiwoner　Lesson8　ROS2　TOPICについて",
   "id": "4190ccf43d489cf0"
  },
  {
   "metadata": {},
   "cell_type": "code",
   "outputs": [
    {
     "ename": "ModuleNotFoundError",
     "evalue": "No module named 'rclpy'",
     "output_type": "error",
     "traceback": [
      "\u001B[31m---------------------------------------------------------------------------\u001B[39m",
      "\u001B[31mModuleNotFoundError\u001B[39m                       Traceback (most recent call last)",
      "\u001B[36mCell\u001B[39m\u001B[36m \u001B[39m\u001B[32mIn[1]\u001B[39m\u001B[32m, line 1\u001B[39m\n\u001B[32m----> \u001B[39m\u001B[32m1\u001B[39m \u001B[38;5;28;01mimport\u001B[39;00m\u001B[38;5;250m \u001B[39m\u001B[34;01mrclpy\u001B[39;00m\n\u001B[32m      2\u001B[39m \u001B[38;5;28;01mfrom\u001B[39;00m\u001B[38;5;250m \u001B[39m\u001B[34;01mrclpy\u001B[39;00m\u001B[34;01m.\u001B[39;00m\u001B[34;01mnode\u001B[39;00m\u001B[38;5;250m \u001B[39m\u001B[38;5;28;01mimport\u001B[39;00m Node\n\u001B[32m      3\u001B[39m \u001B[38;5;28;01mfrom\u001B[39;00m\u001B[38;5;250m \u001B[39m\u001B[34;01mstd_msgs\u001B[39;00m\u001B[34;01m.\u001B[39;00m\u001B[34;01mmsg\u001B[39;00m\u001B[38;5;250m \u001B[39m\u001B[38;5;28;01mimport\u001B[39;00m String\n",
      "\u001B[31mModuleNotFoundError\u001B[39m: No module named 'rclpy'"
     ]
    }
   ],
   "execution_count": 1,
   "source": [
    "import rclpy\n",
    "from rclpy.node import Node\n",
    "from std_msgs.msg import String\n",
    "\n",
    "\n",
    "# MinimalPublisherクラスをNodeクラスから継承して定義\n",
    "class MinimalPublisher(Node):\n",
    "    # クラスの初期化メソッド \n",
    "    def __init__(self):\n",
    "        # Nodeクラスの初期化メソッドを呼び出し、ノード名を'minimal_publisher'に設定\n",
    "        super().__init__('minimal_publisher')\n",
    "        # Stringタイプのメッセージを\"topic\"に発行するパブリッシャーを作成。キューサイズは10\n",
    "        self.publisher_ = self.create_publisher(String, 'topic', 10)\n",
    "        # 0.5秒ごとにtimer_callbackメソッドを呼び出すタイマーを作成\n",
    "        timer_period = 0.5  # 秒\n",
    "        self.timer = self.create_timer(timer_period, self.timer_callback)\n",
    "        # メッセージに含める番号のカウンター\n",
    "        self.i = 0\n",
    "\n",
    "    # タイマーコールバック関数の定義\n",
    "    def timer_callback(self):\n",
    "        # Stringタイプのメッセージを作成\n",
    "        msg = String()\n",
    "        # メッセージデータを\"Hello World: 番号\"の形式で設定\n",
    "        msg.data = 'Hello World: %d' % self.i\n",
    "        # メッセージをパブリッシュ\n",
    "        self.publisher_.publish(msg)\n",
    "        # カウンターをインクリメント\n",
    "        self.i += 1\n",
    "\n",
    "\n",
    "# メイン関数\n",
    "def main(args=None):\n",
    "    # ROS2ノードを初期化\n",
    "    rclpy.init(args=args)\n",
    "    # MinimalPublisherオブジェクトを作成\n",
    "    minimal_publisher = MinimalPublisher()\n",
    "    # ROS2ノードのイベントループを開始\n",
    "    rclpy.spin(minimal_publisher)\n",
    "    # ノードオブジェクトを破棄\n",
    "    minimal_publisher.destroy_node()\n",
    "    # ROS2ノードをシャットダウン\n",
    "    rclpy.shutdown()\n",
    "\n",
    "\n",
    "# このスクリプトがメインプログラムとして実行された場合、main関数を実行\n",
    "if __name__ == '__main__':\n",
    "    main()\n"
   ],
   "id": "4d57dc5769740b28"
  },
  {
   "metadata": {},
   "cell_type": "markdown",
   "source": "追加",
   "id": "f85d1e3f8a404d6c"
  },
  {
   "metadata": {},
   "cell_type": "code",
   "outputs": [],
   "execution_count": null,
   "source": [
    "# テストSubscriber\n",
    "\n",
    "import rclpy\n",
    "from rclpy.node import Node\n",
    "from std_msgs.msg import String\n",
    "\n",
    "\n",
    "# Nodeクラスを継承したMinimalSubscriberクラスを定義\n",
    "class MinimalSubscriber(Node):\n",
    "    # クラスの初期化メソッド\n",
    "    def __init__(self):\n",
    "        # Nodeクラスの初期化メソッドを呼び出し、ノード名を'minimal_subscriber'に設定\n",
    "        super().__init__('minimal_subscriber')\n",
    "        # Stringタイプのメッセージを\"topic\"から受信するサブスクライバーを作成\n",
    "        # コールバック関数としてlistener_callbackを設定し、キューサイズを10に設定\n",
    "        self.subscription = self.create_subscription(\n",
    "            String,\n",
    "            'topic',\n",
    "            self.listener_callback,\n",
    "            10)\n",
    "\n",
    "    # メッセージを受信した際のコールバック関数\n",
    "    def listener_callback(self, msg):\n",
    "        # ロガーを取得し、受信したメッセージを表示\n",
    "        self.get_logger().info('受信したメッセージ: \"%s\"' % msg.data)\n",
    "\n",
    "\n",
    "# メイン関数\n",
    "def main(args=None):\n",
    "    # ROS2ノードを初期化\n",
    "    rclpy.init(args=args)\n",
    "\n",
    "    # MinimalSubscriberオブジェクトを作成\n",
    "    minimal_subscriber = MinimalSubscriber()\n",
    "\n",
    "    # ROS2ノードのイベントループを開始\n",
    "    rclpy.spin(minimal_subscriber)\n",
    "\n",
    "    # ノードオブジェクトを破棄\n",
    "    minimal_subscriber.destroy_node()\n",
    "\n",
    "    # ROS2ノードをシャットダウン\n",
    "    rclpy.shutdown()\n",
    "\n",
    "\n",
    "# このスクリプトがメインプログラムとして実行された場合、main関数を実行\n",
    "if __name__ == '__main__':\n",
    "    main()\n"
   ],
   "id": "8667ada8e211e1a1"
  },
  {
   "metadata": {},
   "cell_type": "markdown",
   "source": "２２２\n",
   "id": "ebd68d289a57b2e3"
  }
 ],
 "metadata": {
  "kernelspec": {
   "display_name": "Python 3",
   "language": "python",
   "name": "python3"
  },
  "language_info": {
   "codemirror_mode": {
    "name": "ipython",
    "version": 2
   },
   "file_extension": ".py",
   "mimetype": "text/x-python",
   "name": "python",
   "nbconvert_exporter": "python",
   "pygments_lexer": "ipython2",
   "version": "2.7.6"
  }
 },
 "nbformat": 4,
 "nbformat_minor": 5
}
