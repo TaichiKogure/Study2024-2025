{
 "cells": [
  {
   "cell_type": "code",
   "metadata": {
    "scrolled": false,
    "ExecuteTime": {
     "end_time": "2025-04-04T01:19:09.137273Z",
     "start_time": "2025-04-04T01:19:09.127817Z"
    }
   },
   "source": [
    "lines = [line for line in open(\"sensor_data_280.txt\",\"r\")]  ### fig:read_sensor_data\n",
    "print(lines[:3])"
   ],
   "outputs": [
    {
     "name": "stdout",
     "output_type": "stream",
     "text": [
      "['20180117 102554 116 282\\n', '20180117 102557 133 278\\n', '20180117 102600 130 285\\n']\n"
     ]
    }
   ],
   "execution_count": 1
  },
  {
   "cell_type": "code",
   "execution_count": null,
   "metadata": {
    "collapsed": true
   },
   "outputs": [],
   "source": []
  }
 ],
 "metadata": {
  "kernelspec": {
   "display_name": "Python 3",
   "language": "python",
   "name": "python3"
  },
  "language_info": {
   "codemirror_mode": {
    "name": "ipython",
    "version": 3
   },
   "file_extension": ".py",
   "mimetype": "text/x-python",
   "name": "python",
   "nbconvert_exporter": "python",
   "pygments_lexer": "ipython3",
   "version": "3.6.3"
  }
 },
 "nbformat": 4,
 "nbformat_minor": 2
}
